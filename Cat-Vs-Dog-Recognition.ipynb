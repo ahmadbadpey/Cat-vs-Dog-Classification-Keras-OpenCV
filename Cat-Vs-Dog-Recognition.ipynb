{
 "cells": [
  {
   "cell_type": "markdown",
   "id": "88e87418",
   "metadata": {},
   "source": [
    "## Cat Vs Dog Recognition\n"
   ]
  },
  {
   "cell_type": "markdown",
   "id": "032c745c",
   "metadata": {},
   "source": [
    "## Importing Libraries "
   ]
  },
  {
   "cell_type": "code",
   "execution_count": 1,
   "id": "4a840cf5",
   "metadata": {},
   "outputs": [],
   "source": [
    "import numpy as np\n",
    "import cv2 as cv\n",
    "from tensorflow.keras import models"
   ]
  },
  {
   "cell_type": "markdown",
   "id": "4dd178a6",
   "metadata": {},
   "source": [
    "## loading Model "
   ]
  },
  {
   "cell_type": "code",
   "execution_count": 2,
   "id": "91c5f98a",
   "metadata": {},
   "outputs": [],
   "source": [
    "model = models.load_model('my_model.h5')"
   ]
  },
  {
   "cell_type": "markdown",
   "id": "2ede22fb",
   "metadata": {},
   "source": [
    "## Image Processing "
   ]
  },
  {
   "cell_type": "code",
   "execution_count": 3,
   "id": "f8548f85",
   "metadata": {},
   "outputs": [
    {
     "name": "stdout",
     "output_type": "stream",
     "text": [
      "[[0.1254902  0.27058824 0.29803922 ... 0.47843137 0.53333333 0.72156863]]\n"
     ]
    }
   ],
   "source": [
    "img = cv.imread('images/dog_3.jpeg')\n",
    "\n",
    "r_img = cv.resize(img , (50,50))\n",
    "r_img = r_img/255.0\n",
    "r_img = r_img.flatten()\n",
    "\n",
    "r_img = np.array([r_img])\n",
    "\n",
    "print(r_img)"
   ]
  },
  {
   "cell_type": "markdown",
   "id": "ecd8aebe",
   "metadata": {},
   "source": [
    "## Predicting "
   ]
  },
  {
   "cell_type": "code",
   "execution_count": 4,
   "id": "2e2f738c",
   "metadata": {},
   "outputs": [
    {
     "name": "stdout",
     "output_type": "stream",
     "text": [
      "1/1 [==============================] - 0s 122ms/step\n",
      "[0.5979306 0.6932078]\n"
     ]
    },
    {
     "data": {
      "text/plain": [
       "1"
      ]
     },
     "execution_count": 4,
     "metadata": {},
     "output_type": "execute_result"
    }
   ],
   "source": [
    "out = model.predict(r_img)[0]\n",
    "\n",
    "print(out)\n",
    "\n",
    "max_out = np.argmax(out)\n",
    "\n",
    "max_out"
   ]
  },
  {
   "cell_type": "code",
   "execution_count": 5,
   "id": "936b0882",
   "metadata": {},
   "outputs": [
    {
     "name": "stdout",
     "output_type": "stream",
     "text": [
      "Dog\n"
     ]
    }
   ],
   "source": [
    "categories = ['Cat' , 'Dog']\n",
    "\n",
    "print(categories[max_out])"
   ]
  },
  {
   "cell_type": "markdown",
   "id": "ba75d8ff",
   "metadata": {},
   "source": [
    "## Show Label On Image "
   ]
  },
  {
   "cell_type": "code",
   "execution_count": 6,
   "id": "e13ca950",
   "metadata": {},
   "outputs": [],
   "source": [
    "cv.putText(img ,\n",
    "               \"{} : {:.2f} %\".format(categories[max_out] ,out[max_out] *100 ) , \n",
    "               org=(10,20) , \n",
    "               fontFace = cv.FONT_HERSHEY_SIMPLEX ,\n",
    "               fontScale = 1  ,\n",
    "               color =(255, 0, 0)\n",
    "      )\n",
    "cv.imshow('My Win' , img)\n",
    "cv.waitKey(0)\n",
    "cv.destroyAllWindows()"
   ]
  }
 ],
 "metadata": {
  "kernelspec": {
   "display_name": "Python 3 (ipykernel)",
   "language": "python",
   "name": "python3"
  },
  "language_info": {
   "codemirror_mode": {
    "name": "ipython",
    "version": 3
   },
   "file_extension": ".py",
   "mimetype": "text/x-python",
   "name": "python",
   "nbconvert_exporter": "python",
   "pygments_lexer": "ipython3",
   "version": "3.10.7"
  }
 },
 "nbformat": 4,
 "nbformat_minor": 5
}
